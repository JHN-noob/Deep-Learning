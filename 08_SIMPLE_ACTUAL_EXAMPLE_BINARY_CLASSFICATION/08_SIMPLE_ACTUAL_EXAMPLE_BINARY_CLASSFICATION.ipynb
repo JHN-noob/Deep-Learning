{
 "cells": [
  {
   "cell_type": "code",
   "execution_count": 1,
   "id": "33b84bfd-3e56-440f-b717-380c1abc0bcf",
   "metadata": {},
   "outputs": [],
   "source": [
    "import torch\n",
    "import torch.nn as nn\n",
    "import numpy as np\n",
    "import pandas as pd\n",
    "from sklearn.preprocessing import StandardScaler"
   ]
  },
  {
   "cell_type": "code",
   "execution_count": 8,
   "id": "97298a4e-d451-42f8-9539-b3edb417f608",
   "metadata": {},
   "outputs": [
    {
     "data": {
      "text/plain": [
       "(11430, 89)"
      ]
     },
     "execution_count": 8,
     "metadata": {},
     "output_type": "execute_result"
    }
   ],
   "source": [
    "df_data = pd.read_csv('dataset_phishing/dataset_phishing.csv')\n",
    "df_data.shape"
   ]
  },
  {
   "cell_type": "code",
   "execution_count": 9,
   "id": "627978d8-b1af-486f-8f93-caa812a26848",
   "metadata": {},
   "outputs": [
    {
     "data": {
      "text/html": [
       "<div>\n",
       "<style scoped>\n",
       "    .dataframe tbody tr th:only-of-type {\n",
       "        vertical-align: middle;\n",
       "    }\n",
       "\n",
       "    .dataframe tbody tr th {\n",
       "        vertical-align: top;\n",
       "    }\n",
       "\n",
       "    .dataframe thead th {\n",
       "        text-align: right;\n",
       "    }\n",
       "</style>\n",
       "<table border=\"1\" class=\"dataframe\">\n",
       "  <thead>\n",
       "    <tr style=\"text-align: right;\">\n",
       "      <th></th>\n",
       "      <th>url</th>\n",
       "      <th>target</th>\n",
       "    </tr>\n",
       "  </thead>\n",
       "  <tbody>\n",
       "    <tr>\n",
       "      <th>0</th>\n",
       "      <td>http://www.crestonwood.com/router.php</td>\n",
       "      <td>1</td>\n",
       "    </tr>\n",
       "    <tr>\n",
       "      <th>1</th>\n",
       "      <td>http://shadetreetechnology.com/V4/validation/a...</td>\n",
       "      <td>0</td>\n",
       "    </tr>\n",
       "    <tr>\n",
       "      <th>2</th>\n",
       "      <td>https://support-appleld.com.secureupdate.duila...</td>\n",
       "      <td>0</td>\n",
       "    </tr>\n",
       "    <tr>\n",
       "      <th>3</th>\n",
       "      <td>http://rgipt.ac.in</td>\n",
       "      <td>1</td>\n",
       "    </tr>\n",
       "    <tr>\n",
       "      <th>4</th>\n",
       "      <td>http://www.iracing.com/tracks/gateway-motorspo...</td>\n",
       "      <td>1</td>\n",
       "    </tr>\n",
       "  </tbody>\n",
       "</table>\n",
       "</div>"
      ],
      "text/plain": [
       "                                                 url  target\n",
       "0              http://www.crestonwood.com/router.php       1\n",
       "1  http://shadetreetechnology.com/V4/validation/a...       0\n",
       "2  https://support-appleld.com.secureupdate.duila...       0\n",
       "3                                 http://rgipt.ac.in       1\n",
       "4  http://www.iracing.com/tracks/gateway-motorspo...       1"
      ]
     },
     "execution_count": 9,
     "metadata": {},
     "output_type": "execute_result"
    }
   ],
   "source": [
    "df_data['target'] = pd.get_dummies(df_data['status'])['legitimate'].astype('int')\n",
    "df_data.drop('status', axis = 1, inplace = True)\n",
    "df_data[['url', 'target']].head(5)\n",
    "# status feature에서 'legitimate'이면 1, 아니면 0을 저장함"
   ]
  },
  {
   "cell_type": "code",
   "execution_count": 10,
   "id": "b4cd111c-6aab-4043-bf63-4288de8980c5",
   "metadata": {},
   "outputs": [
    {
     "data": {
      "text/plain": [
       "(11430, 89)"
      ]
     },
     "execution_count": 10,
     "metadata": {},
     "output_type": "execute_result"
    }
   ],
   "source": [
    "df_data.shape"
   ]
  },
  {
   "cell_type": "code",
   "execution_count": 14,
   "id": "57c72315-9c08-4c53-b6e6-f286072f0bd2",
   "metadata": {},
   "outputs": [
    {
     "name": "stdout",
     "output_type": "stream",
     "text": [
      "(9144, 87) (9144,)\n",
      "(2286, 87) (2286,)\n"
     ]
    }
   ],
   "source": [
    "from sklearn.model_selection import train_test_split\n",
    "\n",
    "X = df_data.iloc[:, 1:-1]\n",
    "y = df_data['target']\n",
    "# 첫번째 feature인 'url'은 문자열이라 불필요\n",
    "\n",
    "X_train, X_test, y_train, y_test = train_test_split(X, y, test_size = 0.2, stratify=y)\n",
    "print(X_train.shape, y_train.shape)\n",
    "print(X_test.shape, y_test.shape)\n",
    "# test_set을 20%로 나눠주고 y를 기준으로 적절한 비율의 라벨로 테스트셋이 분류됨(데이터 편향 방지)"
   ]
  },
  {
   "cell_type": "code",
   "execution_count": 35,
   "id": "a98f2dc7-16f8-4d01-bf31-4acbe3f8bfd2",
   "metadata": {},
   "outputs": [],
   "source": [
    "std_scaler = StandardScaler()\n",
    "std_scaler.fit(X_train)\n",
    "X_train_tensor = torch.from_numpy(std_scaler.transform(X_train)).float()\n",
    "X_test_tensor = torch.from_numpy(std_scaler.transform(X_test)).float()\n",
    "y_train_tensor = torch.from_numpy(y_train.values).float()\n",
    "# series 형식인 y_train을 ndarray 형식으로 바꿔줌\n",
    "y_train_tensor = y_train_tensor.unsqueeze(1)\n",
    "# (2286, )인 열벡터를 (2286, 1)의 행렬로 변환(output_dim이 1이므로)\n",
    "y_test_tensor = torch.from_numpy(y_test.values).float()\n",
    "y_test_tensor = y_test_tensor.unsqueeze(1)"
   ]
  },
  {
   "cell_type": "code",
   "execution_count": 36,
   "id": "bf2d544f-d9d3-4f57-89c6-67121d4cb0e5",
   "metadata": {},
   "outputs": [],
   "source": [
    "class FunModel(nn.Module):\n",
    "    def __init__(self, input_dim, output_dim):\n",
    "        super().__init__()\n",
    "\n",
    "        self.linear_layers = nn.Sequential(\n",
    "            nn.Linear(input_dim, 200),\n",
    "            nn.LeakyReLU(0.1),\n",
    "            nn.Linear(200, 100),\n",
    "            nn.LeakyReLU(0.1),\n",
    "            nn.Linear(100, 20),\n",
    "            nn.LeakyReLU(0.1),\n",
    "            nn.Linear(20, 5),\n",
    "            nn.LeakyReLU(0.1),\n",
    "            nn.Linear(5, output_dim),\n",
    "            nn.Sigmoid()\n",
    "            # 회귀모델과 기본 뼈대는 같지만 마지막에 sigmoid 함수를 추가한다.\n",
    "        )\n",
    "\n",
    "    def forward(self, x):\n",
    "        y = self.linear_layers(x)\n",
    "        return y"
   ]
  },
  {
   "cell_type": "code",
   "execution_count": 37,
   "id": "1c9d5f8f-c6ca-49ef-bed8-edb132074c3c",
   "metadata": {},
   "outputs": [
    {
     "name": "stdout",
     "output_type": "stream",
     "text": [
      "87 1\n"
     ]
    }
   ],
   "source": [
    "input_dim = X_train_tensor.size(-1)\n",
    "output_dim = y_train_tensor.size(-1)\n",
    "print(input_dim, output_dim)\n",
    "model = FunModel(input_dim, output_dim)\n",
    "loss_func = nn.BCELoss()\n",
    "optimizer = torch.optim.Adam(model.parameters())"
   ]
  },
  {
   "cell_type": "code",
   "execution_count": 39,
   "id": "514bfcd7-3416-4310-8848-4422addd9b42",
   "metadata": {},
   "outputs": [],
   "source": [
    "nb_epochs = 100\n",
    "minibatch_size = 256"
   ]
  },
  {
   "cell_type": "code",
   "execution_count": 40,
   "id": "4f75ab07-1b33-44f3-b88a-d87b28894e19",
   "metadata": {},
   "outputs": [
    {
     "name": "stdout",
     "output_type": "stream",
     "text": [
      "0 tensor(0.5334, grad_fn=<DivBackward0>)\n"
     ]
    }
   ],
   "source": [
    "for index in range(nb_epochs):\n",
    "    indices = torch.randperm(X_train_tensor.size(0))\n",
    "\n",
    "    x_batch_list = torch.index_select(X_train_tensor, 0, index=indices)\n",
    "    y_batch_list = torch.index_select(y_train_tensor, 0, index=indices)\n",
    "    x_batch_list = x_batch_list.split(minibatch_size, 0)\n",
    "    y_batch_list = y_batch_list.split(minibatch_size, 0)\n",
    "\n",
    "    epoch_loss = list()\n",
    "    for x_minibatch, y_minibatch in zip(x_batch_list, y_batch_list):\n",
    "        y_minibatch_pred = model(x_minibatch)\n",
    "\n",
    "        loss = loss_func(y_minibatch_pred, y_minibatch)\n",
    "        epoch_loss.append(loss)\n",
    "\n",
    "        optimizer.zero_grad()\n",
    "        loss.backward()\n",
    "        optimizer.step()\n",
    "\n",
    "    if (index % 100) == 0:\n",
    "        print(index, sum(epoch_loss) / len(epoch_loss))"
   ]
  },
  {
   "cell_type": "code",
   "execution_count": 41,
   "id": "944a7673-c772-4cce-a2db-e203278636b0",
   "metadata": {},
   "outputs": [],
   "source": [
    "y_pred_list = []\n",
    "model.eval()\n",
    "with torch.no_grad():\n",
    "    y_test_pred_sigmoid = model(X_test_tensor)\n",
    "    y_test_pred = torch.round(y_test_pred_sigmoid)"
   ]
  },
  {
   "cell_type": "markdown",
   "id": "8f74d156-9fd8-4dfe-bcd8-ef1b7a1f39ab",
   "metadata": {},
   "source": [
    "# 미니배치 사이즈 기반 예측"
   ]
  },
  {
   "cell_type": "code",
   "execution_count": 42,
   "id": "4d9f5a4a-72ad-4bcd-9fe7-d24d1a51b1ee",
   "metadata": {},
   "outputs": [],
   "source": [
    "y_pred_list = list()\n",
    "x_test_batch_list = X_test_tensor.split(minibatch_size, 0)\n",
    "model.eval()\n",
    "with torch.no_grad():\n",
    "    for x_minibatch in x_test_batch_list:\n",
    "        y_test_pred_sigmoid = model(x_minibatch)\n",
    "        y_test_pred = torch.round(y_test_pred_sigmoid)\n",
    "        y_pred_list.extend(y_test_pred.squeeze().detach().tolist())\n",
    "\n",
    "y_pred_list = torch.tensor(y_pred_list).unsqueeze(1)"
   ]
  },
  {
   "cell_type": "code",
   "execution_count": 43,
   "id": "4dc25abd-56e6-4a54-b480-fdd07ef8c992",
   "metadata": {},
   "outputs": [
    {
     "name": "stdout",
     "output_type": "stream",
     "text": [
      "torch.Size([2286, 1]) torch.Size([2286, 1])\n"
     ]
    }
   ],
   "source": [
    "print(y_pred_list.shape, y_test_tensor.shape)"
   ]
  },
  {
   "cell_type": "markdown",
   "id": "5a5935e8-e059-4b34-82a3-7683e3acccc4",
   "metadata": {},
   "source": [
    "# Classfication 기본 매트릭"
   ]
  },
  {
   "cell_type": "code",
   "execution_count": 49,
   "id": "e6fa541d-6af2-4b66-b459-242b30237188",
   "metadata": {},
   "outputs": [
    {
     "name": "stdout",
     "output_type": "stream",
     "text": [
      "Confusion_matrix\n",
      " [[1110   33]\n",
      " [  57 1086]]\n",
      "Precision\n",
      " 0.9705093833780161\n",
      "Recall\n",
      " 0.9501312335958005\n",
      "F1 Score\n",
      " 0.9602122015915119\n"
     ]
    }
   ],
   "source": [
    "from sklearn.metrics import confusion_matrix, precision_score, recall_score, f1_score\n",
    "\n",
    "print(\"Confusion_matrix\\n\", str(confusion_matrix(y_test_tensor, y_pred_list)))\n",
    "print(\"Precision\\n\", str(precision_score(y_test_tensor, y_pred_list)))\n",
    "print(\"Recall\\n\", str(recall_score(y_test_tensor, y_pred_list)))\n",
    "print(\"F1 Score\\n\", str(f1_score(y_test_tensor, y_pred_list)))\n",
    "# Precision(정확도)이 97.05%이다."
   ]
  }
 ],
 "metadata": {
  "kernelspec": {
   "display_name": "Python 3 (ipykernel)",
   "language": "python",
   "name": "python3"
  },
  "language_info": {
   "codemirror_mode": {
    "name": "ipython",
    "version": 3
   },
   "file_extension": ".py",
   "mimetype": "text/x-python",
   "name": "python",
   "nbconvert_exporter": "python",
   "pygments_lexer": "ipython3",
   "version": "3.12.7"
  }
 },
 "nbformat": 4,
 "nbformat_minor": 5
}
