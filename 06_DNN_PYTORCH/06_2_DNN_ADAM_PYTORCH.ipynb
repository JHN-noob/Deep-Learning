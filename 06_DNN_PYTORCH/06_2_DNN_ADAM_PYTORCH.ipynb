{
 "cells": [
  {
   "cell_type": "markdown",
   "id": "1ff72ebe-3b5a-42cc-9888-6121b520dea0",
   "metadata": {},
   "source": [
    "# Adam optimizer 테스트"
   ]
  },
  {
   "cell_type": "code",
   "execution_count": 1,
   "id": "f21e0955-5479-4d78-9baf-7ca9149b8b8b",
   "metadata": {},
   "outputs": [],
   "source": [
    "import torch\n",
    "import torch.nn as nn"
   ]
  },
  {
   "cell_type": "code",
   "execution_count": 2,
   "id": "af012faa-f4f4-4159-8bd3-80682580cdcc",
   "metadata": {},
   "outputs": [],
   "source": [
    "x = torch.ones(5000, 10)\n",
    "y = torch.zeros(5000, 1)\n",
    "learning_rate = 0.01\n",
    "nb_epochs = 1000\n",
    "minibatch_size = 256"
   ]
  },
  {
   "cell_type": "code",
   "execution_count": 4,
   "id": "296cc880-542f-49e7-8bf1-fa6b5e4d5353",
   "metadata": {},
   "outputs": [],
   "source": [
    "input_dim = x.size(-1)\n",
    "output_dim = y.size(-1)\n",
    "\n",
    "model = nn.Sequential(\n",
    "    nn.Linear(input_dim, 10),\n",
    "    nn.LeakyReLU(0.1),\n",
    "    nn.Linear(10, 8),\n",
    "    nn.LeakyReLU(0.1),\n",
    "    nn.Linear(8, 6),\n",
    "    nn.LeakyReLU(0.1),\n",
    "    nn.Linear(6, output_dim)\n",
    ")\n",
    "\n",
    "loss_function = nn.MSELoss()\n",
    "# optimizer = torch.optim.SGD(model.parameters(), lr=learning_rate)\n",
    "# optimizer = torch.optim.SGD(model.parameters(), lr=learning_rate, momentum=0.9)\n",
    "# optimizer = torch.optim.SGD(model.parameters(), lr=learning_rate, momentum=0.9, nesterov=True)\n",
    "# optimizer = torch.optim.Adagrad(model.parameters())\n",
    "# optimizer = torch.optim.RMSProp(model.parameters())\n",
    "optimizer = torch.optim.Adam(model.parameters())"
   ]
  },
  {
   "cell_type": "code",
   "execution_count": 5,
   "id": "02903697-ba62-4097-a91f-bd9fbd126759",
   "metadata": {},
   "outputs": [
    {
     "name": "stdout",
     "output_type": "stream",
     "text": [
      "tensor([1490,  101,  102,  ..., 4758, 4770,  138])\n",
      "20 20\n"
     ]
    },
    {
     "data": {
      "text/plain": [
       "tensor([[1., 1., 1.,  ..., 1., 1., 1.],\n",
       "        [1., 1., 1.,  ..., 1., 1., 1.],\n",
       "        [1., 1., 1.,  ..., 1., 1., 1.],\n",
       "        ...,\n",
       "        [1., 1., 1.,  ..., 1., 1., 1.],\n",
       "        [1., 1., 1.,  ..., 1., 1., 1.],\n",
       "        [1., 1., 1.,  ..., 1., 1., 1.]])"
      ]
     },
     "execution_count": 5,
     "metadata": {},
     "output_type": "execute_result"
    }
   ],
   "source": [
    "indices = torch.randperm(x.size(0)) # 5000개의 인덱스 번호를 만들어서 섞음\n",
    "print(indices)\n",
    "x_batch_list = torch.index_select(x, 0, index=indices) # indices로 데이터셋을 shuffle\n",
    "y_batch_list = torch.index_select(y, 0, index=indices)\n",
    "\n",
    "y_batch_list[0].shape\n",
    "x_batch_list = x_batch_list.split(minibatch_size, dim=0) # 행을 기준으로 미니배치 사이즈로 나눈다\n",
    "y_batch_list = y_batch_list.split(minibatch_size, dim=0)\n",
    "print(len(x_batch_list), len(y_batch_list))\n",
    "type(y_batch_list)\n",
    "type(y_batch_list[0])\n",
    "x_batch_list[0]"
   ]
  },
  {
   "cell_type": "code",
   "execution_count": 6,
   "id": "56230d59-80fb-4b4a-a5b2-2aba7b9862fa",
   "metadata": {},
   "outputs": [
    {
     "name": "stdout",
     "output_type": "stream",
     "text": [
      "tensor(0., grad_fn=<MseLossBackward0>)\n",
      "Parameter containing:\n",
      "tensor([[-0.1417,  0.3198,  0.3355,  0.1921,  0.2131, -0.0885,  0.2643,  0.1967,\n",
      "         -0.1762, -0.0375],\n",
      "        [ 0.0787,  0.1616,  0.1084,  0.0222, -0.1283,  0.2333,  0.1093, -0.1905,\n",
      "          0.2983, -0.2375],\n",
      "        [ 0.2424,  0.0665,  0.2803, -0.0501, -0.1975, -0.0855,  0.0017,  0.2472,\n",
      "          0.1301,  0.0772],\n",
      "        [-0.0176,  0.2423,  0.0262,  0.3480,  0.0447, -0.0114, -0.0440,  0.1532,\n",
      "         -0.0663, -0.2149],\n",
      "        [-0.1264, -0.0482,  0.2372,  0.0767,  0.1848,  0.0672, -0.0676,  0.3747,\n",
      "         -0.0272, -0.0268],\n",
      "        [-0.2902,  0.2761,  0.2390,  0.0976, -0.0946,  0.1325,  0.0688, -0.1946,\n",
      "         -0.3034,  0.0754],\n",
      "        [ 0.0590,  0.0710, -0.1050, -0.0883, -0.0418, -0.0112,  0.0321, -0.2028,\n",
      "         -0.1169, -0.0850],\n",
      "        [ 0.1712, -0.0594,  0.3115, -0.0378, -0.0564,  0.2242, -0.1159, -0.0715,\n",
      "          0.3644,  0.0132],\n",
      "        [ 0.0833, -0.1770,  0.2076,  0.2870,  0.0865,  0.2605,  0.0747, -0.0782,\n",
      "         -0.2415,  0.2597],\n",
      "        [ 0.2057, -0.1541, -0.2619,  0.0565, -0.0104, -0.2139,  0.1416, -0.2392,\n",
      "         -0.2747,  0.2004]], requires_grad=True)\n",
      "Parameter containing:\n",
      "tensor([ 0.0841,  0.1212,  0.2166, -0.0887, -0.0409, -0.1956,  0.2383, -0.0849,\n",
      "         0.2703,  0.1803], requires_grad=True)\n",
      "Parameter containing:\n",
      "tensor([[-0.1567, -0.2348, -0.2247, -0.0325, -0.2497,  0.0774,  0.1940,  0.2414,\n",
      "         -0.3053, -0.2218],\n",
      "        [ 0.1972, -0.0725,  0.0338,  0.3072,  0.2850, -0.0747, -0.2853,  0.2413,\n",
      "          0.3512, -0.1374],\n",
      "        [-0.1514,  0.2083,  0.1096, -0.1010,  0.1612, -0.0102,  0.1822, -0.2284,\n",
      "         -0.0811,  0.3412],\n",
      "        [ 0.0177,  0.3356,  0.0778, -0.0131,  0.0358, -0.1002, -0.2515,  0.1168,\n",
      "          0.4060,  0.0221],\n",
      "        [-0.2149, -0.0331,  0.2319,  0.0723, -0.0992, -0.2007,  0.2873,  0.0012,\n",
      "          0.1347,  0.2381],\n",
      "        [ 0.1502, -0.0301, -0.0114,  0.0977,  0.0065, -0.0900,  0.2231, -0.1473,\n",
      "          0.1256, -0.1118],\n",
      "        [-0.1682,  0.1340, -0.2477, -0.0857,  0.2556,  0.2675, -0.0143, -0.2209,\n",
      "         -0.1338, -0.3101],\n",
      "        [ 0.1758,  0.1943,  0.0744, -0.1118,  0.2544,  0.2694,  0.1475, -0.0247,\n",
      "          0.2601,  0.0555]], requires_grad=True)\n",
      "Parameter containing:\n",
      "tensor([-0.2148,  0.3492, -0.3321,  0.0012,  0.2276, -0.3081,  0.1716,  0.0347],\n",
      "       requires_grad=True)\n",
      "Parameter containing:\n",
      "tensor([[-0.0072,  0.1522,  0.1477,  0.0041,  0.3192,  0.0974,  0.2120, -0.0139],\n",
      "        [-0.4145,  0.1107, -0.4099,  0.1654,  0.2534, -0.2507, -0.1347, -0.0226],\n",
      "        [ 0.3861, -0.3299,  0.3501, -0.1961,  0.2958, -0.3197,  0.2060, -0.4325],\n",
      "        [-0.0161, -0.0662,  0.2068, -0.3200,  0.0822,  0.0075, -0.3013, -0.1867],\n",
      "        [-0.1699,  0.2371, -0.0374,  0.2257,  0.0762, -0.0343, -0.2985, -0.1246],\n",
      "        [-0.0530, -0.2164, -0.1655,  0.1552,  0.0366, -0.0840, -0.0845, -0.2635]],\n",
      "       requires_grad=True)\n",
      "Parameter containing:\n",
      "tensor([ 0.2147, -0.2294, -0.3177,  0.1507, -0.1056, -0.1483],\n",
      "       requires_grad=True)\n",
      "Parameter containing:\n",
      "tensor([[ 0.0188,  0.3164, -0.4833, -0.0826,  0.2960,  0.0891]],\n",
      "       requires_grad=True)\n",
      "Parameter containing:\n",
      "tensor([-0.2311], requires_grad=True)\n"
     ]
    }
   ],
   "source": [
    "for index in range(nb_epochs):\n",
    "    indices = torch.randperm(x.size(0))\n",
    "\n",
    "    x_batch_list = torch.index_select(x, 0, index=indices)\n",
    "    y_batch_list = torch.index_select(y, 0, index=indices)\n",
    "    x_batch_list = x_batch_list.split(minibatch_size, dim=0)\n",
    "    y_batch_list = y_batch_list.split(minibatch_size, dim=0)\n",
    "\n",
    "    for x_minibatch, y_minibatch in zip(x_batch_list, y_batch_list):\n",
    "        y_minibatch_pred = model(x_minibatch)\n",
    "        loss = loss_function(y_minibatch_pred, y_minibatch)\n",
    "\n",
    "        optimizer.zero_grad()\n",
    "        loss.backward()\n",
    "        optimizer.step()\n",
    "\n",
    "print(loss)\n",
    "for param in model.parameters():\n",
    "    print(param)"
   ]
  }
 ],
 "metadata": {
  "kernelspec": {
   "display_name": "Python 3 (ipykernel)",
   "language": "python",
   "name": "python3"
  },
  "language_info": {
   "codemirror_mode": {
    "name": "ipython",
    "version": 3
   },
   "file_extension": ".py",
   "mimetype": "text/x-python",
   "name": "python",
   "nbconvert_exporter": "python",
   "pygments_lexer": "ipython3",
   "version": "3.12.7"
  }
 },
 "nbformat": 4,
 "nbformat_minor": 5
}
